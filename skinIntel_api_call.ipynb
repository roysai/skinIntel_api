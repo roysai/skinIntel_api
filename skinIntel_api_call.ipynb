{
 "cells": [
  {
   "cell_type": "code",
   "execution_count": null,
   "metadata": {},
   "outputs": [],
   "source": [
    "%%timeit\n",
    "import requests\n",
    "from skimage.io import imread, imshow\n",
    "\n",
    "url='http://13.229.232.248/predict'\n",
    "data='https://fi.realself.com/340/cf5cdc7b34f0c0796e9296c2a849a5fc/4/2/c/Eye-Bags-Treatment-before-2241583-2460518.jpg'\n",
    "imshow(imread(data))\n",
    "x=requests.post(url, data=data)\n",
    "x.json()"
   ]
  }
 ],
 "metadata": {
  "kernelspec": {
   "display_name": "Python 3",
   "language": "python",
   "name": "python3"
  },
  "language_info": {
   "codemirror_mode": {
    "name": "ipython",
    "version": 3
   },
   "file_extension": ".py",
   "mimetype": "text/x-python",
   "name": "python",
   "nbconvert_exporter": "python",
   "pygments_lexer": "ipython3",
   "version": "3.6.8"
  }
 },
 "nbformat": 4,
 "nbformat_minor": 2
}
